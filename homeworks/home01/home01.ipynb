{
 "cells": [
  {
   "cell_type": "markdown",
   "source": [
    "## Практическое задание №1. Основные понятия и структуры PyTorch"
   ],
   "metadata": {
    "collapsed": false,
    "pycharm": {
     "name": "#%% md\n"
    }
   }
  },
  {
   "cell_type": "code",
   "execution_count": 1,
   "metadata": {
    "pycharm": {
     "name": "#%%\n"
    }
   },
   "outputs": [],
   "source": [
    "import torch"
   ]
  },
  {
   "cell_type": "code",
   "execution_count": 2,
   "metadata": {
    "pycharm": {
     "name": "#%%\n"
    }
   },
   "outputs": [
    {
     "data": {
      "text/plain": "'torch.FloatTensor'"
     },
     "execution_count": 2,
     "metadata": {},
     "output_type": "execute_result"
    }
   ],
   "source": [
    "# Создайте случайный FloatTensor размера 3x4x5\n",
    "a = torch.rand(3, 4, 5)\n",
    "a.type()"
   ]
  },
  {
   "cell_type": "code",
   "execution_count": 3,
   "metadata": {
    "pycharm": {
     "name": "#%%\n"
    }
   },
   "outputs": [
    {
     "data": {
      "text/plain": "torch.Size([3, 4, 5])"
     },
     "execution_count": 3,
     "metadata": {},
     "output_type": "execute_result"
    }
   ],
   "source": [
    "# Выведите его форму (shape)\n",
    "a.shape"
   ]
  },
  {
   "cell_type": "code",
   "execution_count": 4,
   "metadata": {
    "pycharm": {
     "name": "#%%\n"
    }
   },
   "outputs": [
    {
     "data": {
      "text/plain": "tensor([[0.3675, 0.5951, 0.5284, 0.4573, 0.6092, 0.3529, 0.3440, 0.3560, 0.5980,\n         0.1894],\n        [0.3338, 0.0119, 0.6926, 0.0058, 0.3233, 0.7885, 0.4038, 0.7669, 0.9064,\n         0.5149],\n        [0.2574, 0.8493, 0.3391, 0.0375, 0.5000, 0.9521, 0.1437, 0.1800, 0.7296,\n         0.4103],\n        [0.7607, 0.3587, 0.7192, 0.8980, 0.3806, 0.7711, 0.7162, 0.9978, 0.4646,\n         0.3410],\n        [0.1591, 0.0172, 0.0833, 0.5753, 0.4219, 0.2541, 0.0420, 0.3197, 0.5350,\n         0.5834],\n        [0.3058, 0.1884, 0.1190, 0.8156, 0.0662, 0.5643, 0.9078, 0.9883, 0.0019,\n         0.8628]])"
     },
     "execution_count": 4,
     "metadata": {},
     "output_type": "execute_result"
    }
   ],
   "source": [
    "# Приведите его к форме 6 X 10\n",
    "b = a.reshape(6, 10)\n",
    "b"
   ]
  },
  {
   "cell_type": "code",
   "execution_count": 5,
   "metadata": {
    "pycharm": {
     "name": "#%%\n"
    }
   },
   "outputs": [
    {
     "data": {
      "text/plain": "tensor([[[0.3675, 2.3804, 1.0568, 0.9147, 0.6092],\n         [0.3529, 1.3761, 0.7120, 1.1960, 0.1894],\n         [0.3338, 0.0475, 1.3853, 0.0116, 0.3233],\n         [0.7885, 1.6152, 1.5339, 1.8128, 0.5149]],\n\n        [[0.2574, 3.3972, 0.6781, 0.0751, 0.5000],\n         [0.9521, 0.5747, 0.3600, 1.4591, 0.4103],\n         [0.7607, 1.4349, 1.4383, 1.7961, 0.3806],\n         [0.7711, 2.8648, 1.9956, 0.9292, 0.3410]],\n\n        [[0.1591, 0.0687, 0.1666, 1.1505, 0.4219],\n         [0.2541, 0.1679, 0.6394, 1.0700, 0.5834],\n         [0.3058, 0.7536, 0.2380, 1.6313, 0.0662],\n         [0.5643, 3.6310, 1.9766, 0.0038, 0.8628]]])"
     },
     "execution_count": 5,
     "metadata": {},
     "output_type": "execute_result"
    }
   ],
   "source": [
    "# Умножьте его на вектор [1, 4, 2, 2, 1] поэлементно\n",
    "a * torch.tensor([1, 4, 2, 2, 1])"
   ]
  },
  {
   "cell_type": "code",
   "execution_count": 6,
   "outputs": [
    {
     "data": {
      "text/plain": "torch.Size([6, 10])"
     },
     "execution_count": 6,
     "metadata": {},
     "output_type": "execute_result"
    }
   ],
   "source": [
    "b.shape"
   ],
   "metadata": {
    "collapsed": false,
    "pycharm": {
     "name": "#%%\n"
    }
   }
  },
  {
   "cell_type": "code",
   "execution_count": 7,
   "outputs": [
    {
     "data": {
      "text/plain": "tensor([[0.3675, 0.5951, 0.5284, 0.4573, 0.6092, 0.3529],\n        [0.3338, 0.0119, 0.6926, 0.0058, 0.3233, 0.7885],\n        [0.2574, 0.8493, 0.3391, 0.0375, 0.5000, 0.9521],\n        [0.7607, 0.3587, 0.7192, 0.8980, 0.3806, 0.7711],\n        [0.1591, 0.0172, 0.0833, 0.5753, 0.4219, 0.2541],\n        [0.3058, 0.1884, 0.1190, 0.8156, 0.0662, 0.5643]])"
     },
     "execution_count": 7,
     "metadata": {},
     "output_type": "execute_result"
    }
   ],
   "source": [
    "b[:, :6]"
   ],
   "metadata": {
    "collapsed": false,
    "pycharm": {
     "name": "#%%\n"
    }
   }
  },
  {
   "cell_type": "code",
   "execution_count": 8,
   "outputs": [
    {
     "name": "stdout",
     "output_type": "stream",
     "text": [
      "tensor([[1.3503e-01, 3.5414e-01, 2.7921e-01, 2.0915e-01, 3.7109e-01, 1.2452e-01],\n",
      "        [1.1144e-01, 1.4087e-04, 4.7974e-01, 3.3782e-05, 1.0450e-01, 6.2177e-01],\n",
      "        [6.6274e-02, 7.2131e-01, 1.1496e-01, 1.4093e-03, 2.4999e-01, 9.0655e-01],\n",
      "        [5.7863e-01, 1.2868e-01, 5.1718e-01, 8.0647e-01, 1.4484e-01, 5.9463e-01],\n",
      "        [2.5322e-02, 2.9480e-04, 6.9424e-03, 3.3092e-01, 1.7801e-01, 6.4582e-02],\n",
      "        [9.3528e-02, 3.5495e-02, 1.4166e-02, 6.6525e-01, 4.3830e-03, 3.1845e-01]])\n",
      "torch.Size([6, 6])\n"
     ]
    }
   ],
   "source": [
    "# Умножьте тензор матрично на себя, чтобы результат был размерности 6x6\n",
    "d = b[:, :6] * (b[:, :6])\n",
    "print(d)\n",
    "print(d.shape)"
   ],
   "metadata": {
    "collapsed": false,
    "pycharm": {
     "name": "#%%\n"
    }
   }
  },
  {
   "cell_type": "code",
   "execution_count": 9,
   "outputs": [],
   "source": [
    "# Посчитайте производную функции y = x**3 + z - 75t в точке (1, 0.5, 2)\n",
    "v = torch.tensor([1, 0.5, 2], requires_grad=True)\n",
    "v.grad"
   ],
   "metadata": {
    "collapsed": false,
    "pycharm": {
     "name": "#%%\n"
    }
   }
  },
  {
   "cell_type": "code",
   "execution_count": 10,
   "outputs": [
    {
     "data": {
      "text/plain": "tensor([ -73.0000,  -36.8750, -140.0000], grad_fn=<SubBackward0>)"
     },
     "execution_count": 10,
     "metadata": {},
     "output_type": "execute_result"
    }
   ],
   "source": [
    "z = v ** 3 + v - 75 * v\n",
    "z"
   ],
   "metadata": {
    "collapsed": false,
    "pycharm": {
     "name": "#%%\n"
    }
   }
  },
  {
   "cell_type": "code",
   "execution_count": 11,
   "outputs": [],
   "source": [
    "z.backward(v)"
   ],
   "metadata": {
    "collapsed": false,
    "pycharm": {
     "name": "#%%\n"
    }
   }
  },
  {
   "cell_type": "code",
   "execution_count": 12,
   "outputs": [
    {
     "data": {
      "text/plain": "tensor([ -71.0000,  -36.6250, -124.0000])"
     },
     "execution_count": 12,
     "metadata": {},
     "output_type": "execute_result"
    }
   ],
   "source": [
    "v.grad"
   ],
   "metadata": {
    "collapsed": false,
    "pycharm": {
     "name": "#%%\n"
    }
   }
  },
  {
   "cell_type": "code",
   "execution_count": 13,
   "metadata": {
    "pycharm": {
     "name": "#%%\n"
    }
   },
   "outputs": [
    {
     "data": {
      "text/plain": "tensor([[1., 1., 1., 1., 1., 1.],\n        [1., 1., 1., 1., 1., 1.],\n        [1., 1., 1., 1., 1., 1.],\n        [1., 1., 1., 1., 1., 1.],\n        [1., 1., 1., 1., 1., 1.]])"
     },
     "execution_count": 13,
     "metadata": {},
     "output_type": "execute_result"
    }
   ],
   "source": [
    "# Создайте единичный тензор размера 5x6\n",
    "o=torch.ones(5,6)\n",
    "o"
   ]
  },
  {
   "cell_type": "code",
   "execution_count": 14,
   "metadata": {
    "pycharm": {
     "name": "#%%\n"
    }
   },
   "outputs": [
    {
     "data": {
      "text/plain": "array([[1., 1., 1., 1., 1., 1.],\n       [1., 1., 1., 1., 1., 1.],\n       [1., 1., 1., 1., 1., 1.],\n       [1., 1., 1., 1., 1., 1.],\n       [1., 1., 1., 1., 1., 1.]], dtype=float32)"
     },
     "execution_count": 14,
     "metadata": {},
     "output_type": "execute_result"
    }
   ],
   "source": [
    "# Переведите его в формат numpy\n",
    "import numpy as np\n",
    "o.numpy()"
   ]
  }
 ],
 "metadata": {
  "kernelspec": {
   "display_name": "Python 3",
   "language": "python",
   "name": "python3"
  },
  "language_info": {
   "codemirror_mode": {
    "name": "ipython",
    "version": 3
   },
   "file_extension": ".py",
   "mimetype": "text/x-python",
   "name": "python",
   "nbconvert_exporter": "python",
   "pygments_lexer": "ipython3",
   "version": "3.7.4"
  }
 },
 "nbformat": 4,
 "nbformat_minor": 2
}
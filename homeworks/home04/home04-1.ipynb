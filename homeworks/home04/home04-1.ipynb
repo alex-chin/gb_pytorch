{
  "cells": [
    {
      "cell_type": "markdown",
      "source": [
        "# Практическое задание №4. CNN"
      ],
      "metadata": {
        "collapsed": false,
        "pycharm": {
          "name": "#%% md\n"
        },
        "id": "D7vud13BCqIL"
      }
    },
    {
      "cell_type": "markdown",
      "source": [
        "* Обучите CNN (самописная) на CIFAR-100.\n",
        "\n",
        "* Обучите CNN на CIFAR-100 через дообучение ImageNet Resnet-50.\n",
        "* *Обучите CNN на CIFAR-100 через дообучение ImageNet Resnet-50 с аугментацией данных."
      ],
      "metadata": {
        "collapsed": false,
        "pycharm": {
          "name": "#%% md\n"
        },
        "id": "BYsVCC6eCqIO"
      }
    },
    {
      "cell_type": "markdown",
      "source": [
        "## Импорт библиотек"
      ],
      "metadata": {
        "collapsed": false,
        "pycharm": {
          "name": "#%% md\n"
        },
        "id": "lW1aYzVeCqIP"
      }
    },
    {
      "cell_type": "code",
      "execution_count": 1,
      "outputs": [],
      "source": [
        "import numpy as np\n",
        "import torch\n",
        "\n",
        "from torch import nn\n",
        "from torch.nn import functional as F\n",
        "from PIL import Image\n",
        "from torchvision import transforms, datasets\n",
        "# from tqdm import tqdm\n",
        "\n",
        "from sklearn.model_selection import train_test_split"
      ],
      "metadata": {
        "pycharm": {
          "name": "#%%\n"
        },
        "id": "53-odz6KCqIP"
      }
    },
    {
      "cell_type": "markdown",
      "source": [
        "## Определение и загрузка датасета"
      ],
      "metadata": {
        "collapsed": false,
        "pycharm": {
          "name": "#%% md\n"
        },
        "id": "ZuJhLFrFCqIR"
      }
    },
    {
      "cell_type": "code",
      "execution_count": 2,
      "outputs": [
        {
          "output_type": "stream",
          "name": "stdout",
          "text": [
            "Downloading https://www.cs.toronto.edu/~kriz/cifar-100-python.tar.gz to data100/cifar-100-python.tar.gz\n"
          ]
        },
        {
          "output_type": "display_data",
          "data": {
            "text/plain": [
              "  0%|          | 0/169001437 [00:00<?, ?it/s]"
            ],
            "application/vnd.jupyter.widget-view+json": {
              "version_major": 2,
              "version_minor": 0,
              "model_id": "c69c74076f5c4054b4600610b9250a51"
            }
          },
          "metadata": {}
        },
        {
          "output_type": "stream",
          "name": "stdout",
          "text": [
            "Extracting data100/cifar-100-python.tar.gz to data100/\n"
          ]
        }
      ],
      "source": [
        "dataset = datasets.CIFAR100(root='data100/', train=True, download=True)\n",
        "\n",
        "\n",
        "class MyOwnCifar(torch.utils.data.Dataset):\n",
        "\n",
        "    def __init__(self, init_dataset, transform=None):\n",
        "        self._base_dataset = init_dataset\n",
        "        self.transform = transform\n",
        "\n",
        "    def __len__(self):\n",
        "        return len(self._base_dataset)\n",
        "\n",
        "    def __getitem__(self, idx):\n",
        "        img = self._base_dataset[idx][0]\n",
        "        if self.transform is not None:\n",
        "            img = self.transform(img)\n",
        "        return img, self._base_dataset[idx][1]"
      ],
      "metadata": {
        "pycharm": {
          "name": "#%%\n"
        },
        "id": "Rrm35WYiCqIR",
        "outputId": "66de4e09-debc-4e61-8511-73dd80412603",
        "colab": {
          "base_uri": "https://localhost:8080/",
          "height": 84,
          "referenced_widgets": [
            "c69c74076f5c4054b4600610b9250a51",
            "2ae2f7fe7a02493a8d3eaa34bb100e16",
            "ca575551bbc04de5a4aba2f9fd1609e6",
            "1c5596d05e264a979d7f72c7c3eadd36",
            "c1ac0be5cb634a72912e464ffbea6f79",
            "0a279ebfa2474bcab4d23f6dafbdbb16",
            "3029212d3dd24cd4a783f580d5b27210",
            "38a84b0aa2a44de28ae57d70f15729c9",
            "fc162d057253482c8d55040c1a3abf3b",
            "08bb7147905b4ba692e6c11fc584c921",
            "e12d8c7e0a944fbca94a11b4745df7e6"
          ]
        }
      }
    },
    {
      "cell_type": "markdown",
      "source": [
        "## Определение трансформации"
      ],
      "metadata": {
        "collapsed": false,
        "pycharm": {
          "name": "#%% md\n"
        },
        "id": "ktVidslWCqIR"
      }
    },
    {
      "cell_type": "code",
      "execution_count": 3,
      "outputs": [],
      "source": [
        "trans_actions = transforms.Compose([transforms.Resize(44),\n",
        "                                    transforms.RandomCrop(32, padding=4),\n",
        "                                    transforms.ToTensor()])\n",
        "# trans_actions = transforms.Compose([transforms.ToTensor()])"
      ],
      "metadata": {
        "pycharm": {
          "name": "#%%\n"
        },
        "id": "mjm7veI3CqIS"
      }
    },
    {
      "cell_type": "markdown",
      "source": [
        "## Разделение на выборки"
      ],
      "metadata": {
        "collapsed": false,
        "pycharm": {
          "name": "#%% md\n"
        },
        "id": "slA0iLOXCqIS"
      }
    },
    {
      "cell_type": "code",
      "execution_count": 4,
      "outputs": [],
      "source": [
        "\n",
        "def train_valid_split(Xt):\n",
        "    X_train, X_test = train_test_split(Xt, test_size=0.05, random_state=13)\n",
        "    return X_train, X_test\n",
        "\n",
        "train_dataset, valid_dataset = train_valid_split(dataset)\n",
        "\n",
        "train_dataset = MyOwnCifar(train_dataset, trans_actions)\n",
        "valid_dataset = MyOwnCifar(valid_dataset, transforms.ToTensor())"
      ],
      "metadata": {
        "pycharm": {
          "name": "#%%\n"
        },
        "id": "KAMCO8BcCqIT"
      }
    },
    {
      "cell_type": "markdown",
      "source": [
        "## Определение загрузчиков"
      ],
      "metadata": {
        "collapsed": false,
        "pycharm": {
          "name": "#%% md\n"
        },
        "id": "gPyFRDomCqIT"
      }
    },
    {
      "cell_type": "code",
      "execution_count": 5,
      "outputs": [],
      "source": [
        "train_loader = torch.utils.data.DataLoader(train_dataset,\n",
        "                                               batch_size=128,\n",
        "                                               shuffle=True,\n",
        "                                               num_workers=2)\n",
        "valid_loader = torch.utils.data.DataLoader(valid_dataset,\n",
        "                                           batch_size=128,\n",
        "                                           shuffle=False,\n",
        "                                           num_workers=1)"
      ],
      "metadata": {
        "pycharm": {
          "name": "#%%\n"
        },
        "id": "36rhSEwaCqIT"
      }
    },
    {
      "cell_type": "markdown",
      "source": [
        "## Метки классов"
      ],
      "metadata": {
        "collapsed": false,
        "pycharm": {
          "name": "#%% md\n"
        },
        "id": "RXDN0p0UCqIT"
      }
    },
    {
      "cell_type": "markdown",
      "source": [
        "Кодирование классов\n",
        "https://towardsdatascience.com/cifar-100-pre-processing-for-image-recognition-task-68015b43d658"
      ],
      "metadata": {
        "id": "RXt2mdpxIibe"
      }
    },
    {
      "cell_type": "code",
      "execution_count": 6,
      "outputs": [],
      "source": [
        "classes = ['apple', 'aquarium_fish', 'baby', 'bear', 'beaver', 'bed', 'bee', 'beetle', 'bicycle', 'bottle', 'bowl', 'boy', 'bridge', 'bus', 'butterfly', 'camel', 'can', 'castle', 'caterpillar', 'cattle', 'chair', 'chimpanzee', 'clock', 'cloud', 'cockroach', 'couch', 'crab', 'crocodile', 'cup', 'dinosaur', 'dolphin', 'elephant', 'flatfish', 'forest', 'fox', 'girl', 'hamster', 'house', 'kangaroo', 'keyboard', 'lamp', 'lawn_mower', 'leopard', 'lion', 'lizard', 'lobster', 'man', 'maple_tree', 'motorcycle', 'mountain', 'mouse', 'mushroom', 'oak_tree', 'orange', 'orchid', 'otter', 'palm_tree', 'pear', 'pickup_truck', 'pine_tree', 'plain', 'plate', 'poppy', 'porcupine', 'possum', 'rabbit', 'raccoon', 'ray', 'road', 'rocket', 'rose', 'sea', 'seal', 'shark', 'shrew', 'skunk', 'skyscraper', 'snail', 'snake', 'spider', 'squirrel', 'streetcar', 'sunflower', 'sweet_pepper', 'table', 'tank', 'telephone', 'television', 'tiger', 'tractor', 'train', 'trout', 'tulip', 'turtle', 'wardrobe', 'whale', 'willow_tree', 'wolf', 'woman', 'worm']         \n"
      ],
      "metadata": {
        "pycharm": {
          "name": "#%%\n"
        },
        "id": "oC1-4mBuCqIU"
      }
    },
    {
      "cell_type": "markdown",
      "source": [
        "## Проверка загрузчика"
      ],
      "metadata": {
        "collapsed": false,
        "pycharm": {
          "name": "#%% md\n"
        },
        "id": "YnQNB8BUCqIU"
      }
    },
    {
      "cell_type": "code",
      "execution_count": 7,
      "outputs": [
        {
          "output_type": "stream",
          "name": "stdout",
          "text": [
            "torch.Size([128, 3, 32, 32])\n",
            "tensor(30)\n",
            "dolphin\n"
          ]
        },
        {
          "output_type": "display_data",
          "data": {
            "text/plain": [
              "<Figure size 432x288 with 1 Axes>"
            ],
            "image/png": "[encoded data removed]"
          },
          "metadata": {
            "needs_background": "light"
          }
        }
      ],
      "source": [
        "import matplotlib.pyplot as plt\n",
        "\n",
        "\n",
        "for img, lbl in train_loader:\n",
        "    print(img.shape)\n",
        "    print(lbl[0])\n",
        "    print(classes[lbl[0]])\n",
        "    plt.imshow(img[0].permute(1, 2, 0))\n",
        "    break"
      ],
      "metadata": {
        "pycharm": {
          "name": "#%%\n"
        },
        "id": "5HJIxQ83CqIU",
        "outputId": "76f9c4ef-bf52-4b33-82fa-4640a9caa9f0",
        "colab": {
          "base_uri": "https://localhost:8080/",
          "height": 318
        }
      }
    },
    {
      "cell_type": "markdown",
      "source": [
        "## Определение среды исполнения"
      ],
      "metadata": {
        "collapsed": false,
        "pycharm": {
          "name": "#%% md\n"
        },
        "id": "F_j2YHSSCqIU"
      }
    },
    {
      "cell_type": "code",
      "execution_count": 8,
      "outputs": [
        {
          "output_type": "execute_result",
          "data": {
            "text/plain": [
              "'cuda'"
            ],
            "application/vnd.google.colaboratory.intrinsic+json": {
              "type": "string"
            }
          },
          "metadata": {},
          "execution_count": 8
        }
      ],
      "source": [
        "device = 'cuda' if torch.cuda.is_available() else 'cpu'\n",
        "device"
      ],
      "metadata": {
        "pycharm": {
          "name": "#%%\n"
        },
        "id": "tXhooevzCqIV",
        "outputId": "fcf34f6e-35ef-4f8c-842b-456c321fe6e0",
        "colab": {
          "base_uri": "https://localhost:8080/",
          "height": 35
        }
      }
    },
    {
      "cell_type": "markdown",
      "source": [
        "## Определение NN"
      ],
      "metadata": {
        "collapsed": false,
        "pycharm": {
          "name": "#%% md\n"
        },
        "id": "xYR56l2GCqIV"
      }
    },
    {
      "cell_type": "code",
      "execution_count": 9,
      "outputs": [
        {
          "output_type": "stream",
          "name": "stdout",
          "text": [
            "Net(\n",
            "  (dp_one): Dropout(p=0.2, inplace=False)\n",
            "  (dp_two): Dropout(p=0.2, inplace=False)\n",
            "  (bn_one): BatchNorm2d(3, eps=1e-05, momentum=0.1, affine=True, track_running_stats=True)\n",
            "  (conv_one): Conv2d(3, 30, kernel_size=(3, 3), stride=(1, 1))\n",
            "  (bn_two): BatchNorm2d(30, eps=1e-05, momentum=0.1, affine=True, track_running_stats=True)\n",
            "  (conv_two): Conv2d(30, 60, kernel_size=(3, 3), stride=(1, 1))\n",
            "  (bn_three): BatchNorm2d(60, eps=1e-05, momentum=0.1, affine=True, track_running_stats=True)\n",
            "  (conv_three): Conv2d(60, 120, kernel_size=(3, 3), stride=(1, 1))\n",
            "  (bn_four): BatchNorm2d(120, eps=1e-05, momentum=0.1, affine=True, track_running_stats=True)\n",
            "  (fc1): Linear(in_features=480, out_features=300, bias=True)\n",
            "  (fc2): Linear(in_features=300, out_features=200, bias=True)\n",
            "  (out): Linear(in_features=200, out_features=100, bias=True)\n",
            ")\n"
          ]
        }
      ],
      "source": [
        "class Net(nn.Module):\n",
        "\n",
        "    def __init__(self):\n",
        "        super(Net, self).__init__()\n",
        "        self.dp_one = nn.Dropout(0.2)\n",
        "        self.dp_two = nn.Dropout(0.2)\n",
        "\n",
        "        self.bn_one = torch.nn.BatchNorm2d(3)\n",
        "        self.conv_one = torch.nn.Conv2d(3, 30, 3)\n",
        "        self.bn_two = torch.nn.BatchNorm2d(30)\n",
        "        self.conv_two = torch.nn.Conv2d(30, 60, 3)\n",
        "        self.bn_three = torch.nn.BatchNorm2d(60)\n",
        "        self.conv_three = torch.nn.Conv2d(60, 120, 3)\n",
        "        self.bn_four = torch.nn.BatchNorm2d(120)\n",
        "\n",
        "        self.fc1 = torch.nn.Linear(480, 300)\n",
        "        self.fc2 = torch.nn.Linear(300, 200)\n",
        "        self.out = torch.nn.Linear(200, 100)\n",
        "\n",
        "        # self.fc1 = torch.nn.Linear(480, 200)\n",
        "        # self.fc2 = torch.nn.Linear(200, 60)\n",
        "        # self.out = torch.nn.Linear(60, 10)\n",
        "\n",
        "    def forward(self, x):\n",
        "        x = self.bn_one(x)\n",
        "        x = self.conv_one(x)\n",
        "        x = F.relu(x)\n",
        "        x = F.max_pool2d(x, 2)\n",
        "\n",
        "        x = self.bn_two(x)\n",
        "        x = self.conv_two(x)\n",
        "        x = F.relu(x)\n",
        "        x = F.max_pool2d(x, 2)\n",
        "\n",
        "        x = self.bn_three(x)\n",
        "        x = self.conv_three(x)\n",
        "        x = F.leaky_relu(x, 0.1)\n",
        "        x = F.max_pool2d(x, 2)\n",
        "\n",
        "        x = self.bn_four(x)\n",
        "        x = x.view(x.size(0), -1)\n",
        "        x = self.dp_one(x)\n",
        "        x = self.fc1(x)\n",
        "        x = F.relu(x)\n",
        "        x = self.dp_two(x)\n",
        "        x = self.fc2(x)\n",
        "        x = F.relu(x)\n",
        "        return self.out(x)\n",
        "\n",
        "net = Net().to(device)\n",
        "print(net)"
      ],
      "metadata": {
        "pycharm": {
          "name": "#%%\n"
        },
        "id": "jEnObC86CqIV",
        "outputId": "80a7dc39-7ff4-4cd5-dbf6-dc203f14ef9d",
        "colab": {
          "base_uri": "https://localhost:8080/"
        }
      }
    },
    {
      "cell_type": "markdown",
      "source": [
        "## Определение оптимизатора и функции потерь"
      ],
      "metadata": {
        "collapsed": false,
        "pycharm": {
          "name": "#%% md\n"
        },
        "id": "AJaIJ7KYCqIW"
      }
    },
    {
      "cell_type": "code",
      "execution_count": 10,
      "outputs": [],
      "source": [
        "optimizer = torch.optim.Adam(net.parameters(), lr=0.01)\n",
        "criterion = nn.CrossEntropyLoss()"
      ],
      "metadata": {
        "pycharm": {
          "name": "#%%\n"
        },
        "id": "1_jblFObCqIW"
      }
    },
    {
      "cell_type": "markdown",
      "source": [
        "## Ревизия сети"
      ],
      "metadata": {
        "collapsed": false,
        "pycharm": {
          "name": "#%% md\n"
        },
        "id": "pDyJ17WvCqIW"
      }
    },
    {
      "cell_type": "code",
      "execution_count": 11,
      "outputs": [
        {
          "output_type": "stream",
          "name": "stdout",
          "text": [
            "----------------------------------------------------------------\n",
            "        Layer (type)               Output Shape         Param #\n",
            "================================================================\n",
            "       BatchNorm2d-1            [-1, 3, 32, 32]               6\n",
            "            Conv2d-2           [-1, 30, 30, 30]             840\n",
            "       BatchNorm2d-3           [-1, 30, 15, 15]              60\n",
            "            Conv2d-4           [-1, 60, 13, 13]          16,260\n",
            "       BatchNorm2d-5             [-1, 60, 6, 6]             120\n",
            "            Conv2d-6            [-1, 120, 4, 4]          64,920\n",
            "       BatchNorm2d-7            [-1, 120, 2, 2]             240\n",
            "           Dropout-8                  [-1, 480]               0\n",
            "            Linear-9                  [-1, 300]         144,300\n",
            "          Dropout-10                  [-1, 300]               0\n",
            "           Linear-11                  [-1, 200]          60,200\n",
            "           Linear-12                  [-1, 100]          20,100\n",
            "================================================================\n",
            "Total params: 307,046\n",
            "Trainable params: 307,046\n",
            "Non-trainable params: 0\n",
            "----------------------------------------------------------------\n",
            "Input size (MB): 0.01\n",
            "Forward/backward pass size (MB): 0.40\n",
            "Params size (MB): 1.17\n",
            "Estimated Total Size (MB): 1.59\n",
            "----------------------------------------------------------------\n"
          ]
        }
      ],
      "source": [
        "from torchsummary import summary\n",
        "\n",
        "summary(net.to(device), input_size=(3, 32, 32))"
      ],
      "metadata": {
        "pycharm": {
          "name": "#%%\n"
        },
        "id": "9-673jcKCqIW",
        "outputId": "b8c23d14-d710-4e5e-b31f-21456a5d14f8",
        "colab": {
          "base_uri": "https://localhost:8080/"
        }
      }
    },
    {
      "cell_type": "markdown",
      "source": [
        "## Функция обучения"
      ],
      "metadata": {
        "collapsed": false,
        "pycharm": {
          "name": "#%% md\n"
        },
        "id": "KTzzWk7XCqIX"
      }
    },
    {
      "cell_type": "code",
      "execution_count": 12,
      "outputs": [
        {
          "output_type": "stream",
          "name": "stdout",
          "text": [
            "Epoch [1/5]. Step [1/372]. Loss: 0.036. Acc: 0.016. Test acc: 0.015\n",
            "Epoch [1/5]. Step [301/372]. Loss: 0.033. Acc: 0.046. Test acc: 0.080\n",
            "Epoch [2/5]. Step [1/372]. Loss: 0.031. Acc: 0.109. Test acc: 0.072\n",
            "Epoch [2/5]. Step [301/372]. Loss: 0.031. Acc: 0.073. Test acc: 0.092\n",
            "Epoch [3/5]. Step [1/372]. Loss: 0.031. Acc: 0.117. Test acc: 0.082\n",
            "Epoch [3/5]. Step [301/372]. Loss: 0.031. Acc: 0.087. Test acc: 0.101\n",
            "Epoch [4/5]. Step [1/372]. Loss: 0.031. Acc: 0.094. Test acc: 0.087\n",
            "Epoch [4/5]. Step [301/372]. Loss: 0.030. Acc: 0.095. Test acc: 0.105\n",
            "Epoch [5/5]. Step [1/372]. Loss: 0.031. Acc: 0.094. Test acc: 0.108\n",
            "Epoch [5/5]. Step [301/372]. Loss: 0.030. Acc: 0.104. Test acc: 0.118\n",
            "Training is finished!\n"
          ]
        }
      ],
      "source": [
        "num_epochs = 5\n",
        "net.train()\n",
        "\n",
        "for epoch in range(num_epochs):\n",
        "    running_loss, running_items, running_right = 0.0, 0.0, 0.0\n",
        "    for i, data in enumerate(train_loader, 0):\n",
        "        inputs, labels = data[0].to(device), data[1].to(device)\n",
        "\n",
        "        # обнуляем градиент\n",
        "        optimizer.zero_grad()\n",
        "\n",
        "        outputs = net(inputs)\n",
        "        loss = criterion(outputs, labels)\n",
        "        loss.backward()\n",
        "        optimizer.step()\n",
        "\n",
        "        # выводим статистику о процессе обучения\n",
        "        running_loss += loss.item()\n",
        "        running_items += len(labels)\n",
        "        running_right += (labels == torch.max(outputs, 1)[1]).sum()\n",
        "\n",
        "        # выводим статистику о процессе обучения\n",
        "        if i % 300 == 0:    # печатаем каждые 300 mini-batches\n",
        "            net.eval()\n",
        "\n",
        "            print(f'Epoch [{epoch + 1}/{num_epochs}]. ' \\\n",
        "                  f'Step [{i + 1}/{len(train_loader)}]. ' \\\n",
        "                  f'Loss: {running_loss / running_items:.3f}. ' \\\n",
        "                  f'Acc: {running_right / running_items:.3f}', end='. ')\n",
        "            running_loss, running_items, running_right = 0.0, 0.0, 0.0\n",
        "\n",
        "            test_running_right, test_running_total = 0.0, 0.0\n",
        "            for i, data in enumerate(valid_loader):\n",
        "\n",
        "                test_outputs = net(data[0].to(device))\n",
        "                test_running_total += len(data[1])\n",
        "                test_running_right += (data[1].to(device) == torch.max(test_outputs, 1)[1]).sum()\n",
        "\n",
        "            print(f'Test acc: {test_running_right / test_running_total:.3f}')\n",
        "\n",
        "        net.train()\n",
        "\n",
        "print('Training is finished!')"
      ],
      "metadata": {
        "pycharm": {
          "name": "#%%\n"
        },
        "id": "jtJWTADrCqIX",
        "outputId": "bf687607-59f7-4425-81bc-8f0081b35de2",
        "colab": {
          "base_uri": "https://localhost:8080/"
        }
      }
    },
    {
      "cell_type": "code",
      "source": [
        ""
      ],
      "metadata": {
        "id": "7ons_qH6GEay"
      },
      "execution_count": null,
      "outputs": []
    },
    {
      "cell_type": "markdown",
      "source": [
        "# Вывод\n",
        "\n",
        "> Сформировал сеть на 100 классов. Согласовал слои на выделение 100 классов. Получил точность 12%. Вероятность принадлежности класса - 1%. Следовательно полученная точность довольно высокая.   "
      ],
      "metadata": {
        "id": "nwXpReIfVAZe"
      }
    },
    {
      "cell_type": "code",
      "source": [
        ""
      ],
      "metadata": {
        "id": "mL8xnMgJXO9M"
      },
      "execution_count": null,
      "outputs": []
    }
  ],
  "metadata": {
    "kernelspec": {
      "display_name": "Python 3",
      "language": "python",
      "name": "python3"
    },
    "language_info": {
      "codemirror_mode": {
        "name": "ipython",
        "version": 2
      },
      "file_extension": ".py",
      "mimetype": "text/x-python",
      "name": "python",
      "nbconvert_exporter": "python",
      "pygments_lexer": "ipython2",
      "version": "2.7.6"
    },
    "colab": {
      "name": "home04.ipynb",
      "provenance": []
    },
    "accelerator": "GPU",
    "widgets": {
      "application/vnd.jupyter.widget-state+json": {
        "c69c74076f5c4054b4600610b9250a51": {
          "model_module": "@jupyter-widgets/controls",
          "model_name": "HBoxModel",
          "model_module_version": "1.5.0",
          "state": {
            "_dom_classes": [],
            "_model_module": "@jupyter-widgets/controls",
            "_model_module_version": "1.5.0",
            "_model_name": "HBoxModel",
            "_view_count": null,
            "_view_module": "@jupyter-widgets/controls",
            "_view_module_version": "1.5.0",
            "_view_name": "HBoxView",
            "box_style": "",
            "children": [
              "IPY_MODEL_2ae2f7fe7a02493a8d3eaa34bb100e16",
              "IPY_MODEL_ca575551bbc04de5a4aba2f9fd1609e6",
              "IPY_MODEL_1c5596d05e264a979d7f72c7c3eadd36"
            ],
            "layout": "IPY_MODEL_c1ac0be5cb634a72912e464ffbea6f79"
          }
        },
        "2ae2f7fe7a02493a8d3eaa34bb100e16": {
          "model_module": "@jupyter-widgets/controls",
          "model_name": "HTMLModel",
          "model_module_version": "1.5.0",
          "state": {
            "_dom_classes": [],
            "_model_module": "@jupyter-widgets/controls",
            "_model_module_version": "1.5.0",
            "_model_name": "HTMLModel",
            "_view_count": null,
            "_view_module": "@jupyter-widgets/controls",
            "_view_module_version": "1.5.0",
            "_view_name": "HTMLView",
            "description": "",
            "description_tooltip": null,
            "layout": "IPY_MODEL_0a279ebfa2474bcab4d23f6dafbdbb16",
            "placeholder": "​",
            "style": "IPY_MODEL_3029212d3dd24cd4a783f580d5b27210",
            "value": ""
          }
        },
        "ca575551bbc04de5a4aba2f9fd1609e6": {
          "model_module": "@jupyter-widgets/controls",
          "model_name": "FloatProgressModel",
          "model_module_version": "1.5.0",
          "state": {
            "_dom_classes": [],
            "_model_module": "@jupyter-widgets/controls",
            "_model_module_version": "1.5.0",
            "_model_name": "FloatProgressModel",
            "_view_count": null,
            "_view_module": "@jupyter-widgets/controls",
            "_view_module_version": "1.5.0",
            "_view_name": "ProgressView",
            "bar_style": "success",
            "description": "",
            "description_tooltip": null,
            "layout": "IPY_MODEL_38a84b0aa2a44de28ae57d70f15729c9",
            "max": 169001437,
            "min": 0,
            "orientation": "horizontal",
            "style": "IPY_MODEL_fc162d057253482c8d55040c1a3abf3b",
            "value": 169001437
          }
        },
        "1c5596d05e264a979d7f72c7c3eadd36": {
          "model_module": "@jupyter-widgets/controls",
          "model_name": "HTMLModel",
          "model_module_version": "1.5.0",
          "state": {
            "_dom_classes": [],
            "_model_module": "@jupyter-widgets/controls",
            "_model_module_version": "1.5.0",
            "_model_name": "HTMLModel",
            "_view_count": null,
            "_view_module": "@jupyter-widgets/controls",
            "_view_module_version": "1.5.0",
            "_view_name": "HTMLView",
            "description": "",
            "description_tooltip": null,
            "layout": "IPY_MODEL_08bb7147905b4ba692e6c11fc584c921",
            "placeholder": "​",
            "style": "IPY_MODEL_e12d8c7e0a944fbca94a11b4745df7e6",
            "value": " 169001984/? [00:03&lt;00:00, 52413045.76it/s]"
          }
        },
        "c1ac0be5cb634a72912e464ffbea6f79": {
          "model_module": "@jupyter-widgets/base",
          "model_name": "LayoutModel",
          "model_module_version": "1.2.0",
          "state": {
            "_model_module": "@jupyter-widgets/base",
            "_model_module_version": "1.2.0",
            "_model_name": "LayoutModel",
            "_view_count": null,
            "_view_module": "@jupyter-widgets/base",
            "_view_module_version": "1.2.0",
            "_view_name": "LayoutView",
            "align_content": null,
            "align_items": null,
            "align_self": null,
            "border": null,
            "bottom": null,
            "display": null,
            "flex": null,
            "flex_flow": null,
            "grid_area": null,
            "grid_auto_columns": null,
            "grid_auto_flow": null,
            "grid_auto_rows": null,
            "grid_column": null,
            "grid_gap": null,
            "grid_row": null,
            "grid_template_areas": null,
            "grid_template_columns": null,
            "grid_template_rows": null,
            "height": null,
            "justify_content": null,
            "justify_items": null,
            "left": null,
            "margin": null,
            "max_height": null,
            "max_width": null,
            "min_height": null,
            "min_width": null,
            "object_fit": null,
            "object_position": null,
            "order": null,
            "overflow": null,
            "overflow_x": null,
            "overflow_y": null,
            "padding": null,
            "right": null,
            "top": null,
            "visibility": null,
            "width": null
          }
        },
        "0a279ebfa2474bcab4d23f6dafbdbb16": {
          "model_module": "@jupyter-widgets/base",
          "model_name": "LayoutModel",
          "model_module_version": "1.2.0",
          "state": {
            "_model_module": "@jupyter-widgets/base",
            "_model_module_version": "1.2.0",
            "_model_name": "LayoutModel",
            "_view_count": null,
            "_view_module": "@jupyter-widgets/base",
            "_view_module_version": "1.2.0",
            "_view_name": "LayoutView",
            "align_content": null,
            "align_items": null,
            "align_self": null,
            "border": null,
            "bottom": null,
            "display": null,
            "flex": null,
            "flex_flow": null,
            "grid_area": null,
            "grid_auto_columns": null,
            "grid_auto_flow": null,
            "grid_auto_rows": null,
            "grid_column": null,
            "grid_gap": null,
            "grid_row": null,
            "grid_template_areas": null,
            "grid_template_columns": null,
            "grid_template_rows": null,
            "height": null,
            "justify_content": null,
            "justify_items": null,
            "left": null,
            "margin": null,
            "max_height": null,
            "max_width": null,
            "min_height": null,
            "min_width": null,
            "object_fit": null,
            "object_position": null,
            "order": null,
            "overflow": null,
            "overflow_x": null,
            "overflow_y": null,
            "padding": null,
            "right": null,
            "top": null,
            "visibility": null,
            "width": null
          }
        },
        "3029212d3dd24cd4a783f580d5b27210": {
          "model_module": "@jupyter-widgets/controls",
          "model_name": "DescriptionStyleModel",
          "model_module_version": "1.5.0",
          "state": {
            "_model_module": "@jupyter-widgets/controls",
            "_model_module_version": "1.5.0",
            "_model_name": "DescriptionStyleModel",
            "_view_count": null,
            "_view_module": "@jupyter-widgets/base",
            "_view_module_version": "1.2.0",
            "_view_name": "StyleView",
            "description_width": ""
          }
        },
        "38a84b0aa2a44de28ae57d70f15729c9": {
          "model_module": "@jupyter-widgets/base",
          "model_name": "LayoutModel",
          "model_module_version": "1.2.0",
          "state": {
            "_model_module": "@jupyter-widgets/base",
            "_model_module_version": "1.2.0",
            "_model_name": "LayoutModel",
            "_view_count": null,
            "_view_module": "@jupyter-widgets/base",
            "_view_module_version": "1.2.0",
            "_view_name": "LayoutView",
            "align_content": null,
            "align_items": null,
            "align_self": null,
            "border": null,
            "bottom": null,
            "display": null,
            "flex": null,
            "flex_flow": null,
            "grid_area": null,
            "grid_auto_columns": null,
            "grid_auto_flow": null,
            "grid_auto_rows": null,
            "grid_column": null,
            "grid_gap": null,
            "grid_row": null,
            "grid_template_areas": null,
            "grid_template_columns": null,
            "grid_template_rows": null,
            "height": null,
            "justify_content": null,
            "justify_items": null,
            "left": null,
            "margin": null,
            "max_height": null,
            "max_width": null,
            "min_height": null,
            "min_width": null,
            "object_fit": null,
            "object_position": null,
            "order": null,
            "overflow": null,
            "overflow_x": null,
            "overflow_y": null,
            "padding": null,
            "right": null,
            "top": null,
            "visibility": null,
            "width": null
          }
        },
        "fc162d057253482c8d55040c1a3abf3b": {
          "model_module": "@jupyter-widgets/controls",
          "model_name": "ProgressStyleModel",
          "model_module_version": "1.5.0",
          "state": {
            "_model_module": "@jupyter-widgets/controls",
            "_model_module_version": "1.5.0",
            "_model_name": "ProgressStyleModel",
            "_view_count": null,
            "_view_module": "@jupyter-widgets/base",
            "_view_module_version": "1.2.0",
            "_view_name": "StyleView",
            "bar_color": null,
            "description_width": ""
          }
        },
        "08bb7147905b4ba692e6c11fc584c921": {
          "model_module": "@jupyter-widgets/base",
          "model_name": "LayoutModel",
          "model_module_version": "1.2.0",
          "state": {
            "_model_module": "@jupyter-widgets/base",
            "_model_module_version": "1.2.0",
            "_model_name": "LayoutModel",
            "_view_count": null,
            "_view_module": "@jupyter-widgets/base",
            "_view_module_version": "1.2.0",
            "_view_name": "LayoutView",
            "align_content": null,
            "align_items": null,
            "align_self": null,
            "border": null,
            "bottom": null,
            "display": null,
            "flex": null,
            "flex_flow": null,
            "grid_area": null,
            "grid_auto_columns": null,
            "grid_auto_flow": null,
            "grid_auto_rows": null,
            "grid_column": null,
            "grid_gap": null,
            "grid_row": null,
            "grid_template_areas": null,
            "grid_template_columns": null,
            "grid_template_rows": null,
            "height": null,
            "justify_content": null,
            "justify_items": null,
            "left": null,
            "margin": null,
            "max_height": null,
            "max_width": null,
            "min_height": null,
            "min_width": null,
            "object_fit": null,
            "object_position": null,
            "order": null,
            "overflow": null,
            "overflow_x": null,
            "overflow_y": null,
            "padding": null,
            "right": null,
            "top": null,
            "visibility": null,
            "width": null
          }
        },
        "e12d8c7e0a944fbca94a11b4745df7e6": {
          "model_module": "@jupyter-widgets/controls",
          "model_name": "DescriptionStyleModel",
          "model_module_version": "1.5.0",
          "state": {
            "_model_module": "@jupyter-widgets/controls",
            "_model_module_version": "1.5.0",
            "_model_name": "DescriptionStyleModel",
            "_view_count": null,
            "_view_module": "@jupyter-widgets/base",
            "_view_module_version": "1.2.0",
            "_view_name": "StyleView",
            "description_width": ""
          }
        }
      }
    }
  },
  "nbformat": 4,
  "nbformat_minor": 0
}